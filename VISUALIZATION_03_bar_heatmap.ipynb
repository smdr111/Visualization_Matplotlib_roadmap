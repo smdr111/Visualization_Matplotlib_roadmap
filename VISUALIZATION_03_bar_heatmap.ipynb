{
  "cells": [
    {
      "cell_type": "markdown",
      "metadata": {
        "id": "view-in-github",
        "colab_type": "text"
      },
      "source": [
        "<a href=\"https://colab.research.google.com/github/smdr111/Visualization_Matplotlib_roadmap/blob/main/VISUALIZATION_03_bar_heatmap.ipynb\" target=\"_parent\"><img src=\"https://colab.research.google.com/assets/colab-badge.svg\" alt=\"Open In Colab\"/></a>"
      ]
    },
    {
      "cell_type": "markdown",
      "id": "abbbd400-e274-4f41-8e91-6950e535a436",
      "metadata": {
        "id": "abbbd400-e274-4f41-8e91-6950e535a436"
      },
      "source": [
        "![Imgur](https://i.imgur.com/5pXzCIu.png)\n",
        "\n",
        "# Data Science va Sun'iy Intellekt Praktikum\n",
        "\n",
        "## 4-MODUL. VIZUALIZASIYA\n",
        "\n",
        "### 4.3 Ustunli diagramma (bar chart) va issiqlik xaritasi (heatmap)\n",
        "\n",
        "## Ustunli diagramma\n"
      ]
    },
    {
      "cell_type": "markdown",
      "id": "df5411c5-2afb-4135-b569-3b3d2c82f57f",
      "metadata": {
        "id": "df5411c5-2afb-4135-b569-3b3d2c82f57f"
      },
      "source": [
        "Ustunli diagramma turli kategoriyadagi qiymatlarni solishtirish uchun juda qulay.\n",
        "\n",
        "![](https://www.mathsisfun.com/data/images/bar-graph-fruit.svg)"
      ]
    },
    {
      "cell_type": "markdown",
      "id": "JqoT5g6D4QPN",
      "metadata": {
        "id": "JqoT5g6D4QPN"
      },
      "source": [
        "Kerakli kutubxonalarni yuklab olamiz:"
      ]
    },
    {
      "cell_type": "code",
      "execution_count": null,
      "id": "1cca8cb7-3f1e-40b8-9cd2-f3bd4c4cdea9",
      "metadata": {
        "id": "1cca8cb7-3f1e-40b8-9cd2-f3bd4c4cdea9"
      },
      "outputs": [],
      "source": [
        "import pandas as pd\n",
        "import numpy as np\n",
        "import matplotlib.pyplot as plt\n",
        "%matplotlib inline\n",
        "import seaborn as sns # agar seaborn o'rnatilmagan bo'lsa pip install seaborn"
      ]
    },
    {
      "cell_type": "markdown",
      "id": "7c3f8489-fd8a-4760-bd8a-5282f631fa5f",
      "metadata": {
        "id": "7c3f8489-fd8a-4760-bd8a-5282f631fa5f"
      },
      "source": [
        "Keling, amaliyot uchun ma'lumotlar yuklab olamiz."
      ]
    },
    {
      "cell_type": "code",
      "execution_count": null,
      "id": "e07e4fd1-87e8-4d66-8695-45a7253fb458",
      "metadata": {
        "colab": {
          "base_uri": "https://localhost:8080/",
          "height": 488
        },
        "id": "e07e4fd1-87e8-4d66-8695-45a7253fb458",
        "outputId": "6b7d0002-c262-4347-ea42-39914edd1fa1"
      },
      "outputs": [
        {
          "data": {
            "text/html": [
              "<div>\n",
              "<style scoped>\n",
              "    .dataframe tbody tr th:only-of-type {\n",
              "        vertical-align: middle;\n",
              "    }\n",
              "\n",
              "    .dataframe tbody tr th {\n",
              "        vertical-align: top;\n",
              "    }\n",
              "\n",
              "    .dataframe thead th {\n",
              "        text-align: right;\n",
              "    }\n",
              "</style>\n",
              "<table border=\"1\" class=\"dataframe\">\n",
              "  <thead>\n",
              "    <tr style=\"text-align: right;\">\n",
              "      <th></th>\n",
              "      <th>maydon</th>\n",
              "      <th>aholi</th>\n",
              "    </tr>\n",
              "    <tr>\n",
              "      <th>Boʻlinishi</th>\n",
              "      <th></th>\n",
              "      <th></th>\n",
              "    </tr>\n",
              "  </thead>\n",
              "  <tbody>\n",
              "    <tr>\n",
              "      <th>Andijon viloyati</th>\n",
              "      <td>4200.0</td>\n",
              "      <td>1899000.0</td>\n",
              "    </tr>\n",
              "    <tr>\n",
              "      <th>Buxoro viloyati</th>\n",
              "      <td>39400.0</td>\n",
              "      <td>1384700.0</td>\n",
              "    </tr>\n",
              "    <tr>\n",
              "      <th>Fargʻona viloyati</th>\n",
              "      <td>6800.0</td>\n",
              "      <td>2597000.0</td>\n",
              "    </tr>\n",
              "    <tr>\n",
              "      <th>Jizzax viloyati</th>\n",
              "      <td>20500.0</td>\n",
              "      <td>910500.0</td>\n",
              "    </tr>\n",
              "    <tr>\n",
              "      <th>Xorazm viloyati</th>\n",
              "      <td>6300.0</td>\n",
              "      <td>1200000.0</td>\n",
              "    </tr>\n",
              "    <tr>\n",
              "      <th>Namangan viloyati</th>\n",
              "      <td>7900.0</td>\n",
              "      <td>1862000.0</td>\n",
              "    </tr>\n",
              "    <tr>\n",
              "      <th>Navoiy viloyati</th>\n",
              "      <td>110800.0</td>\n",
              "      <td>767500.0</td>\n",
              "    </tr>\n",
              "    <tr>\n",
              "      <th>Qashqadaryo viloyati</th>\n",
              "      <td>28400.0</td>\n",
              "      <td>2029000.0</td>\n",
              "    </tr>\n",
              "    <tr>\n",
              "      <th>Qoraqalpogʻiston Respublikasi</th>\n",
              "      <td>160000.0</td>\n",
              "      <td>1200000.0</td>\n",
              "    </tr>\n",
              "    <tr>\n",
              "      <th>Samarqand viloyati</th>\n",
              "      <td>16400.0</td>\n",
              "      <td>2322000.0</td>\n",
              "    </tr>\n",
              "    <tr>\n",
              "      <th>Sirdaryo viloyati</th>\n",
              "      <td>5100.0</td>\n",
              "      <td>648100.0</td>\n",
              "    </tr>\n",
              "    <tr>\n",
              "      <th>Surxondaryo viloyati</th>\n",
              "      <td>20800.0</td>\n",
              "      <td>1676000.0</td>\n",
              "    </tr>\n",
              "    <tr>\n",
              "      <th>Toshkent viloyati</th>\n",
              "      <td>15300.0</td>\n",
              "      <td>4450000.0</td>\n",
              "    </tr>\n",
              "  </tbody>\n",
              "</table>\n",
              "</div>"
            ],
            "text/plain": [
              "                                 maydon      aholi\n",
              "Boʻlinishi                                        \n",
              "Andijon viloyati                 4200.0  1899000.0\n",
              "Buxoro viloyati                 39400.0  1384700.0\n",
              "Fargʻona viloyati                6800.0  2597000.0\n",
              "Jizzax viloyati                 20500.0   910500.0\n",
              "Xorazm viloyati                  6300.0  1200000.0\n",
              "Namangan viloyati                7900.0  1862000.0\n",
              "Navoiy viloyati                110800.0   767500.0\n",
              "Qashqadaryo viloyati            28400.0  2029000.0\n",
              "Qoraqalpogʻiston Respublikasi  160000.0  1200000.0\n",
              "Samarqand viloyati              16400.0  2322000.0\n",
              "Sirdaryo viloyati                5100.0   648100.0\n",
              "Surxondaryo viloyati            20800.0  1676000.0\n",
              "Toshkent viloyati               15300.0  4450000.0"
            ]
          },
          "execution_count": 31,
          "metadata": {},
          "output_type": "execute_result"
        }
      ],
      "source": [
        "df = pd.read_csv(\"https://raw.githubusercontent.com/anvarnarz/praktikum_datasets/main/uzbekistan.csv\", index_col=0)\n",
        "df.columns = ['maydon','aholi']\n",
        "df"
      ]
    },
    {
      "cell_type": "markdown",
      "id": "j7bsuBWj4fSO",
      "metadata": {
        "id": "j7bsuBWj4fSO"
      },
      "source": [
        "Yuqoridagi jadvalda O'zbekiston tarkibidagi hududlarning maydoni va aholi soni jamlangan. Keling ularni ustunli grafik yordamida solishtiramiz.\n",
        "\n",
        "`seaborn`da ustunli diagramma chizish uchun `.barplot()` metodiga murojaat qilamiz."
      ]
    },
    {
      "cell_type": "code",
      "execution_count": null,
      "id": "1DYeyZx8gE8f",
      "metadata": {
        "colab": {
          "base_uri": "https://localhost:8080/",
          "height": 545
        },
        "id": "1DYeyZx8gE8f",
        "outputId": "d7a570e9-53e2-423c-b35d-3cd5c806dfe1"
      },
      "outputs": [
        {
          "data": {
            "image/png": "[encoded data removed]",
            "text/plain": [
              "<Figure size 1152x432 with 1 Axes>"
            ]
          },
          "metadata": {
            "needs_background": "light"
          },
          "output_type": "display_data"
        }
      ],
      "source": [
        "plt.figure(figsize=(16,6))\n",
        "sns.barplot(x=df.index, y=df['aholi'])\n",
        "\n",
        "plt.title(\"O'zbekiston Respublikasi tarkibidagi hududlar aholi soni\")\n",
        "plt.xlabel(\"Hudud\")\n",
        "plt.ylabel(\"Aholi soni (million)\")\n",
        "plt.grid() # Chizmaga gorizontal va vertikal chiziqlar (setka) qo'shish\n",
        "plt.xticks(rotation=90)\n",
        "plt.show()"
      ]
    },
    {
      "cell_type": "code",
      "execution_count": null,
      "id": "IZ2RBS7W7g7Y",
      "metadata": {
        "colab": {
          "base_uri": "https://localhost:8080/",
          "height": 545
        },
        "id": "IZ2RBS7W7g7Y",
        "outputId": "f5941eb0-d0a0-4f1e-a3dc-4fe1fc12c0aa"
      },
      "outputs": [
        {
          "data": {
            "image/png": "[encoded data removed]",
            "text/plain": [
              "<Figure size 1152x432 with 1 Axes>"
            ]
          },
          "metadata": {
            "needs_background": "light"
          },
          "output_type": "display_data"
        }
      ],
      "source": [
        "plt.figure(figsize=(16,6))\n",
        "sns.barplot(x=df.index, y=df['maydon'])\n",
        "\n",
        "plt.title(\"O'zbekiston Respublikasi tarkibidagi hududlar maydoni\")\n",
        "plt.xlabel(\"Hudud\")\n",
        "plt.ylabel(\"Maydon (kv.km.)\")\n",
        "plt.grid() # Chizmaga gorizontal va vertikal chiziqlar (setka) qo'shish\n",
        "plt.xticks(rotation=90)\n",
        "plt.show()"
      ]
    },
    {
      "cell_type": "markdown",
      "id": "dBtoKcm2dwev",
      "metadata": {
        "id": "dBtoKcm2dwev"
      },
      "source": [
        "#### `seaborn.barplot` haqida to'liq ma'lumot: https://seaborn.pydata.org/generated/seaborn.barplot.html"
      ]
    },
    {
      "cell_type": "markdown",
      "id": "quAVwA2x9NyN",
      "metadata": {
        "id": "quAVwA2x9NyN"
      },
      "source": [
        "## Heatmap\n",
        "\n",
        "Keling endi yangi jadval o'qiymiz. Quyidagi jadvalda AQSHdagi ba'zi muzeylarga turli sanalarda tashrif buyurganlar soni saqlangan. Biz faqatgina birinchi muzey uchun qiymatlarni o'qiymi ( `usecols=[0,1]`)"
      ]
    },
    {
      "cell_type": "code",
      "execution_count": null,
      "id": "B0AC4n-0niFF",
      "metadata": {
        "colab": {
          "base_uri": "https://localhost:8080/",
          "height": 238
        },
        "id": "B0AC4n-0niFF",
        "outputId": "17151fef-d71c-47c8-db39-5b4de16685a3"
      },
      "outputs": [
        {
          "data": {
            "text/html": [
              "<div>\n",
              "<style scoped>\n",
              "    .dataframe tbody tr th:only-of-type {\n",
              "        vertical-align: middle;\n",
              "    }\n",
              "\n",
              "    .dataframe tbody tr th {\n",
              "        vertical-align: top;\n",
              "    }\n",
              "\n",
              "    .dataframe thead th {\n",
              "        text-align: right;\n",
              "    }\n",
              "</style>\n",
              "<table border=\"1\" class=\"dataframe\">\n",
              "  <thead>\n",
              "    <tr style=\"text-align: right;\">\n",
              "      <th></th>\n",
              "      <th>Avila Adobe</th>\n",
              "    </tr>\n",
              "    <tr>\n",
              "      <th>Date</th>\n",
              "      <th></th>\n",
              "    </tr>\n",
              "  </thead>\n",
              "  <tbody>\n",
              "    <tr>\n",
              "      <th>2014-01-01</th>\n",
              "      <td>24778</td>\n",
              "    </tr>\n",
              "    <tr>\n",
              "      <th>2014-02-01</th>\n",
              "      <td>18976</td>\n",
              "    </tr>\n",
              "    <tr>\n",
              "      <th>2014-03-01</th>\n",
              "      <td>25231</td>\n",
              "    </tr>\n",
              "    <tr>\n",
              "      <th>2014-04-01</th>\n",
              "      <td>26989</td>\n",
              "    </tr>\n",
              "    <tr>\n",
              "      <th>2014-05-01</th>\n",
              "      <td>36883</td>\n",
              "    </tr>\n",
              "  </tbody>\n",
              "</table>\n",
              "</div>"
            ],
            "text/plain": [
              "            Avila Adobe\n",
              "Date                   \n",
              "2014-01-01        24778\n",
              "2014-02-01        18976\n",
              "2014-03-01        25231\n",
              "2014-04-01        26989\n",
              "2014-05-01        36883"
            ]
          },
          "execution_count": 34,
          "metadata": {},
          "output_type": "execute_result"
        }
      ],
      "source": [
        "df = pd.read_csv(\"https://github.com/anvarnarz/praktikum_datasets/raw/main/museum_visitors.csv\", index_col=0, parse_dates=[0], usecols=[0,1])\n",
        "df.head()"
      ]
    },
    {
      "cell_type": "markdown",
      "id": "uGT9-t0OyQ91",
      "metadata": {
        "id": "uGT9-t0OyQ91"
      },
      "source": [
        "Keling, df indeksidagi qiymatlarni ustunini `datetime` formatiga o'tkazib olamiz"
      ]
    },
    {
      "cell_type": "code",
      "execution_count": null,
      "id": "XdZl317gysV7",
      "metadata": {
        "colab": {
          "base_uri": "https://localhost:8080/"
        },
        "id": "XdZl317gysV7",
        "outputId": "7f17790b-19c6-4008-a5b3-08a0c3f0cff2"
      },
      "outputs": [
        {
          "data": {
            "text/plain": [
              "pandas.core.indexes.datetimes.DatetimeIndex"
            ]
          },
          "execution_count": 35,
          "metadata": {},
          "output_type": "execute_result"
        }
      ],
      "source": [
        "type(df.index)"
      ]
    },
    {
      "cell_type": "markdown",
      "id": "QV9xEc2Gy_KB",
      "metadata": {
        "id": "QV9xEc2Gy_KB"
      },
      "source": [
        "Ma'lumotlarni yil va oy bo'yicha ajratamiz."
      ]
    },
    {
      "cell_type": "code",
      "execution_count": null,
      "id": "qdOXSlQwyGJx",
      "metadata": {
        "colab": {
          "base_uri": "https://localhost:8080/",
          "height": 238
        },
        "id": "qdOXSlQwyGJx",
        "outputId": "6f5d4491-fd8a-44d2-97b0-fa016f57b892"
      },
      "outputs": [
        {
          "data": {
            "text/html": [
              "<div>\n",
              "<style scoped>\n",
              "    .dataframe tbody tr th:only-of-type {\n",
              "        vertical-align: middle;\n",
              "    }\n",
              "\n",
              "    .dataframe tbody tr th {\n",
              "        vertical-align: top;\n",
              "    }\n",
              "\n",
              "    .dataframe thead th {\n",
              "        text-align: right;\n",
              "    }\n",
              "</style>\n",
              "<table border=\"1\" class=\"dataframe\">\n",
              "  <thead>\n",
              "    <tr style=\"text-align: right;\">\n",
              "      <th></th>\n",
              "      <th>Avila Adobe</th>\n",
              "      <th>month</th>\n",
              "      <th>year</th>\n",
              "    </tr>\n",
              "    <tr>\n",
              "      <th>Date</th>\n",
              "      <th></th>\n",
              "      <th></th>\n",
              "      <th></th>\n",
              "    </tr>\n",
              "  </thead>\n",
              "  <tbody>\n",
              "    <tr>\n",
              "      <th>2014-01-01</th>\n",
              "      <td>24778</td>\n",
              "      <td>1</td>\n",
              "      <td>2014</td>\n",
              "    </tr>\n",
              "    <tr>\n",
              "      <th>2014-02-01</th>\n",
              "      <td>18976</td>\n",
              "      <td>2</td>\n",
              "      <td>2014</td>\n",
              "    </tr>\n",
              "    <tr>\n",
              "      <th>2014-03-01</th>\n",
              "      <td>25231</td>\n",
              "      <td>3</td>\n",
              "      <td>2014</td>\n",
              "    </tr>\n",
              "    <tr>\n",
              "      <th>2014-04-01</th>\n",
              "      <td>26989</td>\n",
              "      <td>4</td>\n",
              "      <td>2014</td>\n",
              "    </tr>\n",
              "    <tr>\n",
              "      <th>2014-05-01</th>\n",
              "      <td>36883</td>\n",
              "      <td>5</td>\n",
              "      <td>2014</td>\n",
              "    </tr>\n",
              "  </tbody>\n",
              "</table>\n",
              "</div>"
            ],
            "text/plain": [
              "            Avila Adobe  month  year\n",
              "Date                                \n",
              "2014-01-01        24778      1  2014\n",
              "2014-02-01        18976      2  2014\n",
              "2014-03-01        25231      3  2014\n",
              "2014-04-01        26989      4  2014\n",
              "2014-05-01        36883      5  2014"
            ]
          },
          "execution_count": 36,
          "metadata": {},
          "output_type": "execute_result"
        }
      ],
      "source": [
        "df['month'] = [i.month for i in df.index]\n",
        "df['year'] = [i.year for i in df.index]\n",
        "df.head()"
      ]
    },
    {
      "cell_type": "code",
      "execution_count": null,
      "id": "SbK0g79SKKuq",
      "metadata": {
        "colab": {
          "base_uri": "https://localhost:8080/",
          "height": 394
        },
        "id": "SbK0g79SKKuq",
        "outputId": "6cf9e7db-6777-425d-ac4c-178ea60cf181"
      },
      "outputs": [
        {
          "data": {
            "text/html": [
              "<div>\n",
              "<style scoped>\n",
              "    .dataframe tbody tr th:only-of-type {\n",
              "        vertical-align: middle;\n",
              "    }\n",
              "\n",
              "    .dataframe tbody tr th {\n",
              "        vertical-align: top;\n",
              "    }\n",
              "\n",
              "    .dataframe thead th {\n",
              "        text-align: right;\n",
              "    }\n",
              "</style>\n",
              "<table border=\"1\" class=\"dataframe\">\n",
              "  <thead>\n",
              "    <tr style=\"text-align: right;\">\n",
              "      <th></th>\n",
              "      <th></th>\n",
              "      <th>Avila Adobe</th>\n",
              "    </tr>\n",
              "    <tr>\n",
              "      <th>month</th>\n",
              "      <th>year</th>\n",
              "      <th></th>\n",
              "    </tr>\n",
              "  </thead>\n",
              "  <tbody>\n",
              "    <tr>\n",
              "      <th rowspan=\"5\" valign=\"top\">1</th>\n",
              "      <th>2014</th>\n",
              "      <td>24778</td>\n",
              "    </tr>\n",
              "    <tr>\n",
              "      <th>2015</th>\n",
              "      <td>20438</td>\n",
              "    </tr>\n",
              "    <tr>\n",
              "      <th>2016</th>\n",
              "      <td>19659</td>\n",
              "    </tr>\n",
              "    <tr>\n",
              "      <th>2017</th>\n",
              "      <td>18792</td>\n",
              "    </tr>\n",
              "    <tr>\n",
              "      <th>2018</th>\n",
              "      <td>16265</td>\n",
              "    </tr>\n",
              "    <tr>\n",
              "      <th rowspan=\"5\" valign=\"top\">2</th>\n",
              "      <th>2014</th>\n",
              "      <td>18976</td>\n",
              "    </tr>\n",
              "    <tr>\n",
              "      <th>2015</th>\n",
              "      <td>15578</td>\n",
              "    </tr>\n",
              "    <tr>\n",
              "      <th>2016</th>\n",
              "      <td>17378</td>\n",
              "    </tr>\n",
              "    <tr>\n",
              "      <th>2017</th>\n",
              "      <td>14035</td>\n",
              "    </tr>\n",
              "    <tr>\n",
              "      <th>2018</th>\n",
              "      <td>14718</td>\n",
              "    </tr>\n",
              "  </tbody>\n",
              "</table>\n",
              "</div>"
            ],
            "text/plain": [
              "            Avila Adobe\n",
              "month year             \n",
              "1     2014        24778\n",
              "      2015        20438\n",
              "      2016        19659\n",
              "      2017        18792\n",
              "      2018        16265\n",
              "2     2014        18976\n",
              "      2015        15578\n",
              "      2016        17378\n",
              "      2017        14035\n",
              "      2018        14718"
            ]
          },
          "execution_count": 43,
          "metadata": {},
          "output_type": "execute_result"
        }
      ],
      "source": [
        "df.groupby(['month','year']).max().head(10)"
      ]
    },
    {
      "cell_type": "code",
      "execution_count": null,
      "id": "xMlAQp2Bq1dZ",
      "metadata": {
        "colab": {
          "base_uri": "https://localhost:8080/",
          "height": 269
        },
        "id": "xMlAQp2Bq1dZ",
        "outputId": "5d6e5455-772c-4362-b67c-2ee84a253a61"
      },
      "outputs": [
        {
          "data": {
            "text/html": [
              "<div>\n",
              "<style scoped>\n",
              "    .dataframe tbody tr th:only-of-type {\n",
              "        vertical-align: middle;\n",
              "    }\n",
              "\n",
              "    .dataframe tbody tr th {\n",
              "        vertical-align: top;\n",
              "    }\n",
              "\n",
              "    .dataframe thead tr th {\n",
              "        text-align: left;\n",
              "    }\n",
              "\n",
              "    .dataframe thead tr:last-of-type th {\n",
              "        text-align: right;\n",
              "    }\n",
              "</style>\n",
              "<table border=\"1\" class=\"dataframe\">\n",
              "  <thead>\n",
              "    <tr>\n",
              "      <th></th>\n",
              "      <th colspan=\"12\" halign=\"left\">Avila Adobe</th>\n",
              "    </tr>\n",
              "    <tr>\n",
              "      <th>month</th>\n",
              "      <th>1</th>\n",
              "      <th>2</th>\n",
              "      <th>3</th>\n",
              "      <th>4</th>\n",
              "      <th>5</th>\n",
              "      <th>6</th>\n",
              "      <th>7</th>\n",
              "      <th>8</th>\n",
              "      <th>9</th>\n",
              "      <th>10</th>\n",
              "      <th>11</th>\n",
              "      <th>12</th>\n",
              "    </tr>\n",
              "    <tr>\n",
              "      <th>year</th>\n",
              "      <th></th>\n",
              "      <th></th>\n",
              "      <th></th>\n",
              "      <th></th>\n",
              "      <th></th>\n",
              "      <th></th>\n",
              "      <th></th>\n",
              "      <th></th>\n",
              "      <th></th>\n",
              "      <th></th>\n",
              "      <th></th>\n",
              "      <th></th>\n",
              "    </tr>\n",
              "  </thead>\n",
              "  <tbody>\n",
              "    <tr>\n",
              "      <th>2014</th>\n",
              "      <td>24778.0</td>\n",
              "      <td>18976.0</td>\n",
              "      <td>25231.0</td>\n",
              "      <td>26989.0</td>\n",
              "      <td>36883.0</td>\n",
              "      <td>29487.0</td>\n",
              "      <td>32378.0</td>\n",
              "      <td>37680.0</td>\n",
              "      <td>28473.0</td>\n",
              "      <td>27995.0</td>\n",
              "      <td>25691.0</td>\n",
              "      <td>18754.0</td>\n",
              "    </tr>\n",
              "    <tr>\n",
              "      <th>2015</th>\n",
              "      <td>20438.0</td>\n",
              "      <td>15578.0</td>\n",
              "      <td>21297.0</td>\n",
              "      <td>26670.0</td>\n",
              "      <td>34383.0</td>\n",
              "      <td>30569.0</td>\n",
              "      <td>41242.0</td>\n",
              "      <td>30700.0</td>\n",
              "      <td>20967.0</td>\n",
              "      <td>29764.0</td>\n",
              "      <td>24483.0</td>\n",
              "      <td>21426.0</td>\n",
              "    </tr>\n",
              "    <tr>\n",
              "      <th>2016</th>\n",
              "      <td>19659.0</td>\n",
              "      <td>17378.0</td>\n",
              "      <td>20322.0</td>\n",
              "      <td>24521.0</td>\n",
              "      <td>31728.0</td>\n",
              "      <td>23696.0</td>\n",
              "      <td>31689.0</td>\n",
              "      <td>25987.0</td>\n",
              "      <td>22897.0</td>\n",
              "      <td>25040.0</td>\n",
              "      <td>17760.0</td>\n",
              "      <td>20107.0</td>\n",
              "    </tr>\n",
              "    <tr>\n",
              "      <th>2017</th>\n",
              "      <td>18792.0</td>\n",
              "      <td>14035.0</td>\n",
              "      <td>20680.0</td>\n",
              "      <td>25234.0</td>\n",
              "      <td>30029.0</td>\n",
              "      <td>22169.0</td>\n",
              "      <td>30831.0</td>\n",
              "      <td>27009.0</td>\n",
              "      <td>23403.0</td>\n",
              "      <td>22164.0</td>\n",
              "      <td>17629.0</td>\n",
              "      <td>18339.0</td>\n",
              "    </tr>\n",
              "    <tr>\n",
              "      <th>2018</th>\n",
              "      <td>16265.0</td>\n",
              "      <td>14718.0</td>\n",
              "      <td>19001.0</td>\n",
              "      <td>18966.0</td>\n",
              "      <td>25173.0</td>\n",
              "      <td>22171.0</td>\n",
              "      <td>23136.0</td>\n",
              "      <td>20815.0</td>\n",
              "      <td>21020.0</td>\n",
              "      <td>19280.0</td>\n",
              "      <td>17163.0</td>\n",
              "      <td>NaN</td>\n",
              "    </tr>\n",
              "  </tbody>\n",
              "</table>\n",
              "</div>"
            ],
            "text/plain": [
              "      Avila Adobe                    ...                           \n",
              "month          1        2        3   ...       10       11       12\n",
              "year                                 ...                           \n",
              "2014      24778.0  18976.0  25231.0  ...  27995.0  25691.0  18754.0\n",
              "2015      20438.0  15578.0  21297.0  ...  29764.0  24483.0  21426.0\n",
              "2016      19659.0  17378.0  20322.0  ...  25040.0  17760.0  20107.0\n",
              "2017      18792.0  14035.0  20680.0  ...  22164.0  17629.0  18339.0\n",
              "2018      16265.0  14718.0  19001.0  ...  19280.0  17163.0      NaN\n",
              "\n",
              "[5 rows x 12 columns]"
            ]
          },
          "execution_count": 40,
          "metadata": {},
          "output_type": "execute_result"
        }
      ],
      "source": [
        "df_m = df.groupby(['month','year']).max().unstack(level=0)\n",
        "df_m.head()"
      ]
    },
    {
      "cell_type": "code",
      "execution_count": null,
      "id": "HQHIPXFZKWxE",
      "metadata": {
        "colab": {
          "base_uri": "https://localhost:8080/",
          "height": 453
        },
        "id": "HQHIPXFZKWxE",
        "outputId": "3de1a0f9-1177-4747-c10e-8d3de0d0ce67"
      },
      "outputs": [
        {
          "data": {
            "image/png": "[encoded data removed]",
            "text/plain": [
              "<Figure size 1152x432 with 2 Axes>"
            ]
          },
          "metadata": {
            "needs_background": "light"
          },
          "output_type": "display_data"
        }
      ],
      "source": [
        "plt.figure(figsize=(16,6))\n",
        "sns.heatmap(data=df_m)\n",
        "plt.show()"
      ]
    },
    {
      "cell_type": "code",
      "execution_count": null,
      "id": "g1_hYUrAn-pR",
      "metadata": {
        "colab": {
          "base_uri": "https://localhost:8080/",
          "height": 384
        },
        "id": "g1_hYUrAn-pR",
        "outputId": "73e8e0b7-9ee6-4b7e-b5f9-0c2044153af1"
      },
      "outputs": [
        {
          "data": {
            "image/png": "[encoded data removed]",
            "text/plain": [
              "<Figure size 1152x432 with 2 Axes>"
            ]
          },
          "metadata": {
            "needs_background": "light"
          },
          "output_type": "display_data"
        }
      ],
      "source": [
        "plt.figure(figsize=(16,6))\n",
        "sns.heatmap(data=df_m, cmap=\"YlGnBu\", linewidths=1, square=True)\n",
        "xticks_labels = ['Jan', 'Feb', 'Mar', 'Apr', 'May', 'Jun',\n",
        "                'Jul', 'Aug', 'Sep', 'Oct', 'Nov', 'Dec']\n",
        "plt.xticks(np.arange(12) + .5, labels=xticks_labels)\n",
        "plt.show()"
      ]
    },
    {
      "cell_type": "markdown",
      "id": "mK5Fzb-qL6wL",
      "metadata": {
        "id": "mK5Fzb-qL6wL"
      },
      "source": [
        "### **`cmap` uchun mavjud ranglar:**\n",
        "`[‘Accent’, ‘Accent_r’, ‘Blues’, ‘Blues_r’, ‘BrBG’, ‘BrBG_r’, ‘BuGn’, ‘BuGn_r’, ‘BuPu’, ‘BuPu_r’,\n",
        " ‘CMRmap’, ‘CMRmap_r’, ‘Dark2’, ‘Dark2_r’, ‘GnBu’, ‘GnBu_r’, ‘Greens’, ‘Greens_r’, ‘Greys’, ‘Greys_r’, ‘OrRd’,\n",
        " ‘OrRd_r’, ‘Oranges’, ‘Oranges_r’, ‘PRGn’, ‘PRGn_r’, ‘Paired’, ‘Paired_r’, ‘Pastel1’,\n",
        " ‘Pastel1_r’, ‘Pastel2’, ‘Pastel2_r’, ‘PiYG’, ‘PiYG_r’, ‘PuBu’, ‘PuBuGn’, ‘PuBuGn_r’,\n",
        " ‘PuBu_r’, ‘PuOr’, ‘PuOr_r’, ‘PuRd’, ‘PuRd_r’, ‘Purples’, ‘Purples_r’, ‘RdBu’, ‘RdBu_r’,\n",
        " ‘RdGy’, ‘RdGy_r’, ‘RdPu’, ‘RdPu_r’, ‘RdYlBu’, ‘RdYlBu_r’, ‘RdYlGn’, ‘RdYlGn_r’, ‘Reds’,\n",
        " ‘Reds_r’, ‘Set1’, ‘Set1_r’, ‘Set2’, ‘Set2_r’, ‘Set3’, ‘Set3_r’, ‘Spectral’, ‘Spectral_r’,\n",
        " ‘Wistia’, ‘Wistia_r’, ‘YlGn’, ‘YlGnBu’, ‘YlGnBu_r’, ‘YlGn_r’, ‘YlOrBr’, ‘YlOrBr_r’, ‘YlOrRd’,\n",
        " ‘YlOrRd_r’, ‘afmhot’, ‘afmhot_r’, ‘autumn’, ‘autumn_r’, ‘binary’, ‘binary_r’, ‘bone’,\n",
        " ‘bone_r’, ‘brg’, ‘brg_r’, ‘bwr’, ‘bwr_r’, ‘cividis’, ‘cividis_r’, ‘cool’, ‘cool_r’, ‘coolwarm’, ‘coolwarm_r’, ‘copper’, ‘copper_r’,\n",
        " ‘cubehelix’, ‘cubehelix_r’, ‘flag’, ‘flag_r’, ‘gist_earth’, ‘gist_earth_r’, ‘gist_gray’, ‘gist_gray_r’, ‘gist_heat’, ‘gist_heat_r’, ‘gist_ncar’, ‘gist_ncar_r’,\n",
        " ‘gist_rainbow’, ‘gist_rainbow_r’, ‘gist_stern’, ‘gist_stern_r’, ‘gist_yarg’,\n",
        " ‘gist_yarg_r’, ‘gnuplot’, ‘gnuplot2’, ‘gnuplot2_r’, ‘gnuplot_r’, ‘gray’, ‘gray_r’,\n",
        " ‘hot’, ‘hot_r’, ‘hsv’, ‘hsv_r’, ‘icefire’, ‘icefire_r’, ‘inferno’,\n",
        " ‘inferno_r’, ‘magma’, ‘magma_r’, ‘mako’, ‘mako_r’,\n",
        " ‘nipy_spectral’, ‘nipy_spectral_r’, ‘ocean’, ‘ocean_r’, ‘pink’, ‘pink_r’,\n",
        " ‘plasma’, ‘plasma_r’, ‘prism’, ‘prism_r’, ‘rainbow’, ‘rainbow_r’,\n",
        " ‘rocket’, ‘rocket_r’, ‘seismic’, ‘seismic_r’, ‘spring’, ‘spring_r’,\n",
        " ‘summer’, ‘summer_r’, ‘tab10’, ‘tab10_r’, ‘tab20’, ‘tab20_r’, ‘tab20b’,\n",
        " ‘tab20b_r’, ‘tab20c’, ‘tab20c_r’, ‘terrain’, ‘terrain_r’, ‘twilight’,\n",
        " ‘twilight_r’, ‘twilight_shifted’, ‘twilight_shifted_r’, ‘viridis’, ‘viridis_r’, ‘vlag’, ‘vlag_r’, ‘winter’, ‘winter_r’]`"
      ]
    },
    {
      "cell_type": "markdown",
      "id": "mBvxilaUd7_M",
      "metadata": {
        "id": "mBvxilaUd7_M"
      },
      "source": [
        "#### `seaborn.heatmap` haqida to'liq ma'lumot: https://seaborn.pydata.org/generated/seaborn.heatmap.html"
      ]
    },
    {
      "cell_type": "markdown",
      "id": "2gO63GxFdZ40",
      "metadata": {
        "id": "2gO63GxFdZ40"
      },
      "source": [
        "# BONUS.\n",
        "## Guruhlangan ustunli grafiklar."
      ]
    },
    {
      "cell_type": "code",
      "execution_count": null,
      "id": "GM8OtB8j-hAf",
      "metadata": {
        "colab": {
          "base_uri": "https://localhost:8080/",
          "height": 206
        },
        "id": "GM8OtB8j-hAf",
        "outputId": "d4d82a2f-9573-41de-b321-2571950d8e3c"
      },
      "outputs": [
        {
          "data": {
            "text/html": [
              "<div>\n",
              "<style scoped>\n",
              "    .dataframe tbody tr th:only-of-type {\n",
              "        vertical-align: middle;\n",
              "    }\n",
              "\n",
              "    .dataframe tbody tr th {\n",
              "        vertical-align: top;\n",
              "    }\n",
              "\n",
              "    .dataframe thead th {\n",
              "        text-align: right;\n",
              "    }\n",
              "</style>\n",
              "<table border=\"1\" class=\"dataframe\">\n",
              "  <thead>\n",
              "    <tr style=\"text-align: right;\">\n",
              "      <th></th>\n",
              "      <th>Month</th>\n",
              "      <th>AA</th>\n",
              "      <th>AS</th>\n",
              "      <th>B6</th>\n",
              "      <th>DL</th>\n",
              "      <th>EV</th>\n",
              "      <th>F9</th>\n",
              "      <th>HA</th>\n",
              "      <th>MQ</th>\n",
              "      <th>NK</th>\n",
              "      <th>OO</th>\n",
              "      <th>UA</th>\n",
              "      <th>US</th>\n",
              "      <th>VX</th>\n",
              "      <th>WN</th>\n",
              "    </tr>\n",
              "  </thead>\n",
              "  <tbody>\n",
              "    <tr>\n",
              "      <th>0</th>\n",
              "      <td>1</td>\n",
              "      <td>6.955843</td>\n",
              "      <td>-0.320888</td>\n",
              "      <td>7.347281</td>\n",
              "      <td>-2.043847</td>\n",
              "      <td>8.537497</td>\n",
              "      <td>18.357238</td>\n",
              "      <td>3.512640</td>\n",
              "      <td>18.164974</td>\n",
              "      <td>11.398054</td>\n",
              "      <td>10.889894</td>\n",
              "      <td>6.352729</td>\n",
              "      <td>3.107457</td>\n",
              "      <td>1.420702</td>\n",
              "      <td>3.389466</td>\n",
              "    </tr>\n",
              "    <tr>\n",
              "      <th>1</th>\n",
              "      <td>2</td>\n",
              "      <td>7.530204</td>\n",
              "      <td>-0.782923</td>\n",
              "      <td>18.657673</td>\n",
              "      <td>5.614745</td>\n",
              "      <td>10.417236</td>\n",
              "      <td>27.424179</td>\n",
              "      <td>6.029967</td>\n",
              "      <td>21.301627</td>\n",
              "      <td>16.474466</td>\n",
              "      <td>9.588895</td>\n",
              "      <td>7.260662</td>\n",
              "      <td>7.114455</td>\n",
              "      <td>7.784410</td>\n",
              "      <td>3.501363</td>\n",
              "    </tr>\n",
              "    <tr>\n",
              "      <th>2</th>\n",
              "      <td>3</td>\n",
              "      <td>6.693587</td>\n",
              "      <td>-0.544731</td>\n",
              "      <td>10.741317</td>\n",
              "      <td>2.077965</td>\n",
              "      <td>6.730101</td>\n",
              "      <td>20.074855</td>\n",
              "      <td>3.468383</td>\n",
              "      <td>11.018418</td>\n",
              "      <td>10.039118</td>\n",
              "      <td>3.181693</td>\n",
              "      <td>4.892212</td>\n",
              "      <td>3.330787</td>\n",
              "      <td>5.348207</td>\n",
              "      <td>3.263341</td>\n",
              "    </tr>\n",
              "    <tr>\n",
              "      <th>3</th>\n",
              "      <td>4</td>\n",
              "      <td>4.931778</td>\n",
              "      <td>-3.009003</td>\n",
              "      <td>2.780105</td>\n",
              "      <td>0.083343</td>\n",
              "      <td>4.821253</td>\n",
              "      <td>12.640440</td>\n",
              "      <td>0.011022</td>\n",
              "      <td>5.131228</td>\n",
              "      <td>8.766224</td>\n",
              "      <td>3.223796</td>\n",
              "      <td>4.376092</td>\n",
              "      <td>2.660290</td>\n",
              "      <td>0.995507</td>\n",
              "      <td>2.996399</td>\n",
              "    </tr>\n",
              "    <tr>\n",
              "      <th>4</th>\n",
              "      <td>5</td>\n",
              "      <td>5.173878</td>\n",
              "      <td>-1.716398</td>\n",
              "      <td>-0.709019</td>\n",
              "      <td>0.149333</td>\n",
              "      <td>7.724290</td>\n",
              "      <td>13.007554</td>\n",
              "      <td>0.826426</td>\n",
              "      <td>5.466790</td>\n",
              "      <td>22.397347</td>\n",
              "      <td>4.141162</td>\n",
              "      <td>6.827695</td>\n",
              "      <td>0.681605</td>\n",
              "      <td>7.102021</td>\n",
              "      <td>5.680777</td>\n",
              "    </tr>\n",
              "  </tbody>\n",
              "</table>\n",
              "</div>"
            ],
            "text/plain": [
              "   Month        AA        AS         B6  ...        UA        US        VX        WN\n",
              "0      1  6.955843 -0.320888   7.347281  ...  6.352729  3.107457  1.420702  3.389466\n",
              "1      2  7.530204 -0.782923  18.657673  ...  7.260662  7.114455  7.784410  3.501363\n",
              "2      3  6.693587 -0.544731  10.741317  ...  4.892212  3.330787  5.348207  3.263341\n",
              "3      4  4.931778 -3.009003   2.780105  ...  4.376092  2.660290  0.995507  2.996399\n",
              "4      5  5.173878 -1.716398  -0.709019  ...  6.827695  0.681605  7.102021  5.680777\n",
              "\n",
              "[5 rows x 15 columns]"
            ]
          },
          "execution_count": 93,
          "metadata": {},
          "output_type": "execute_result"
        }
      ],
      "source": [
        "df = pd.read_csv(\"https://raw.githubusercontent.com/anvarnarz/praktikum_datasets/main/flight_delays.csv\")\n",
        "df.head()"
      ]
    },
    {
      "cell_type": "markdown",
      "id": "iFeLrGJGe6as",
      "metadata": {
        "id": "iFeLrGJGe6as"
      },
      "source": [
        "Yuqoridagi jadval turli oylarda turli aviakompaniyalarga tegishli samolyotlar  o'rtacha necha minutga kechikkani ko'rsatilgan**<sup>*</sup>** (har bir ustun bu aviakompaniya nomi qisqartmasi).\n",
        "\n",
        "<sub>*manfiy qiymat samolyot erta kelganini anglatadi.</sub>\n",
        "\n",
        "Biz alohida aviakompaniya uchun oyma-oy qiymatlarni ustunli grafik ko'rinishida chiqarishimiz mumkin:"
      ]
    },
    {
      "cell_type": "code",
      "execution_count": null,
      "id": "HQIyv6cXfUUC",
      "metadata": {
        "colab": {
          "base_uri": "https://localhost:8080/",
          "height": 404
        },
        "id": "HQIyv6cXfUUC",
        "outputId": "4ce19b72-460c-44f6-c4af-c900e58d8876"
      },
      "outputs": [
        {
          "data": {
            "image/png": "[encoded data removed]",
            "text/plain": [
              "<Figure size 1152x432 with 1 Axes>"
            ]
          },
          "metadata": {
            "needs_background": "light"
          },
          "output_type": "display_data"
        }
      ],
      "source": [
        "plt.figure(figsize=(16,6))\n",
        "sns.barplot(x=df['Month'], y=df['AA'])\n",
        "plt.title(\"American Airlines kompaniyasi samolyotlari o'rtacha kechikish vaqti\")\n",
        "plt.ylabel(\"Minutes\")\n",
        "plt.show()"
      ]
    },
    {
      "cell_type": "markdown",
      "id": "yXQizhM-jfS7",
      "metadata": {
        "id": "yXQizhM-jfS7"
      },
      "source": [
        "Keling endi bir nechta aviakompaniyalarni yonma-yon solishtiramiz. Buning uchun jadvalimizni shakl o'zgartirishimiz kerak.\n",
        "\n",
        "`Pandas`da df shaklini o'zgratirish uchun `reshape` yoki `melt` funksiyasidan foydalanishimiz mumkin.\n",
        "\n",
        "`melt` funksiyasi jadvlani eniga uzundan bo'yiga uzun holatga olib kelishda qo'llaniladi. Bunda df dagi bir nechta ustunlarni yagona `variable` ustuniga keltirish mumkin. Qiymatlar esa har bir `variable` uchun `value` ustunida ko'rsatiladi.\n",
        "\n",
        "Tushunarli bo'lishi uchun quyidagi misolga ahamiyat bering. Bu misolda biz AA va MQ aviakompaniyalari uchun ma'lumotlarni ajratib olganmiz.\n",
        "\n",
        "![](https://i.imgur.com/t9GxYtQ.png)\n",
        "\n"
      ]
    },
    {
      "cell_type": "code",
      "execution_count": null,
      "id": "5L1lL_3KhMZA",
      "metadata": {
        "colab": {
          "base_uri": "https://localhost:8080/",
          "height": 206
        },
        "id": "5L1lL_3KhMZA",
        "outputId": "25f1f574-7c28-4e41-b42d-d1293c48f344"
      },
      "outputs": [
        {
          "data": {
            "text/html": [
              "<div>\n",
              "<style scoped>\n",
              "    .dataframe tbody tr th:only-of-type {\n",
              "        vertical-align: middle;\n",
              "    }\n",
              "\n",
              "    .dataframe tbody tr th {\n",
              "        vertical-align: top;\n",
              "    }\n",
              "\n",
              "    .dataframe thead th {\n",
              "        text-align: right;\n",
              "    }\n",
              "</style>\n",
              "<table border=\"1\" class=\"dataframe\">\n",
              "  <thead>\n",
              "    <tr style=\"text-align: right;\">\n",
              "      <th></th>\n",
              "      <th>Month</th>\n",
              "      <th>variable</th>\n",
              "      <th>value</th>\n",
              "    </tr>\n",
              "  </thead>\n",
              "  <tbody>\n",
              "    <tr>\n",
              "      <th>0</th>\n",
              "      <td>1</td>\n",
              "      <td>AA</td>\n",
              "      <td>6.955843</td>\n",
              "    </tr>\n",
              "    <tr>\n",
              "      <th>1</th>\n",
              "      <td>2</td>\n",
              "      <td>AA</td>\n",
              "      <td>7.530204</td>\n",
              "    </tr>\n",
              "    <tr>\n",
              "      <th>2</th>\n",
              "      <td>3</td>\n",
              "      <td>AA</td>\n",
              "      <td>6.693587</td>\n",
              "    </tr>\n",
              "    <tr>\n",
              "      <th>3</th>\n",
              "      <td>4</td>\n",
              "      <td>AA</td>\n",
              "      <td>4.931778</td>\n",
              "    </tr>\n",
              "    <tr>\n",
              "      <th>4</th>\n",
              "      <td>5</td>\n",
              "      <td>AA</td>\n",
              "      <td>5.173878</td>\n",
              "    </tr>\n",
              "  </tbody>\n",
              "</table>\n",
              "</div>"
            ],
            "text/plain": [
              "   Month variable     value\n",
              "0      1       AA  6.955843\n",
              "1      2       AA  7.530204\n",
              "2      3       AA  6.693587\n",
              "3      4       AA  4.931778\n",
              "4      5       AA  5.173878"
            ]
          },
          "execution_count": 98,
          "metadata": {},
          "output_type": "execute_result"
        }
      ],
      "source": [
        "sns."
      ]
    },
    {
      "cell_type": "markdown",
      "id": "kj7n8iBympn4",
      "metadata": {
        "id": "kj7n8iBympn4"
      },
      "source": [
        "Guruhlangan ustunli grafik chizish uchun `catplot` metodidan foydalanamiz. `catplot` yordamida turli grafiklar chizish mumkin, shuning `kind='bar'` parametri yordamida aynan `bar` grafik chizmoqchi ekanmizni ko'rsatamiz.\n",
        "\n",
        "So'ngra, `x` va `y` o'qi qiymatlarini ko'rsatamiz va eng muhimi guruhlash qaysi ustun bo'yicha bo'lishini ko'rsatish uchun `hue='variable'` parametridan foydalanmiz"
      ]
    },
    {
      "cell_type": "code",
      "execution_count": null,
      "id": "HHAqr4Nkh8eg",
      "metadata": {
        "colab": {
          "base_uri": "https://localhost:8080/",
          "height": 369
        },
        "id": "HHAqr4Nkh8eg",
        "outputId": "1e1d15c1-28dd-45b6-8aff-7e718ed64efc"
      },
      "outputs": [
        {
          "data": {
            "image/png": "[encoded data removed]",
            "text/plain": [
              "<Figure size 412.375x360 with 1 Axes>"
            ]
          },
          "metadata": {
            "needs_background": "light"
          },
          "output_type": "display_data"
        }
      ],
      "source": [
        "sns.catplot(data=data, kind=\"bar\", x=\"Month\", y=\"value\", hue=\"variable\")\n",
        "plt.show()"
      ]
    },
    {
      "cell_type": "markdown",
      "id": "sSCi0a7YnaWI",
      "metadata": {
        "id": "sSCi0a7YnaWI"
      },
      "source": [
        "`.melt()` yordamida istalgancha aviakompaniyalarni ajratib olishimiz mumkin:"
      ]
    },
    {
      "cell_type": "code",
      "execution_count": null,
      "id": "UQxLe6s-nZJ5",
      "metadata": {
        "colab": {
          "base_uri": "https://localhost:8080/",
          "height": 206
        },
        "id": "UQxLe6s-nZJ5",
        "outputId": "c0daae27-94e9-4395-a630-183f7bb2c72e"
      },
      "outputs": [
        {
          "data": {
            "text/html": [
              "<div>\n",
              "<style scoped>\n",
              "    .dataframe tbody tr th:only-of-type {\n",
              "        vertical-align: middle;\n",
              "    }\n",
              "\n",
              "    .dataframe tbody tr th {\n",
              "        vertical-align: top;\n",
              "    }\n",
              "\n",
              "    .dataframe thead th {\n",
              "        text-align: right;\n",
              "    }\n",
              "</style>\n",
              "<table border=\"1\" class=\"dataframe\">\n",
              "  <thead>\n",
              "    <tr style=\"text-align: right;\">\n",
              "      <th></th>\n",
              "      <th>Month</th>\n",
              "      <th>variable</th>\n",
              "      <th>value</th>\n",
              "    </tr>\n",
              "  </thead>\n",
              "  <tbody>\n",
              "    <tr>\n",
              "      <th>0</th>\n",
              "      <td>1</td>\n",
              "      <td>AA</td>\n",
              "      <td>6.955843</td>\n",
              "    </tr>\n",
              "    <tr>\n",
              "      <th>1</th>\n",
              "      <td>2</td>\n",
              "      <td>AA</td>\n",
              "      <td>7.530204</td>\n",
              "    </tr>\n",
              "    <tr>\n",
              "      <th>2</th>\n",
              "      <td>3</td>\n",
              "      <td>AA</td>\n",
              "      <td>6.693587</td>\n",
              "    </tr>\n",
              "    <tr>\n",
              "      <th>3</th>\n",
              "      <td>4</td>\n",
              "      <td>AA</td>\n",
              "      <td>4.931778</td>\n",
              "    </tr>\n",
              "    <tr>\n",
              "      <th>4</th>\n",
              "      <td>5</td>\n",
              "      <td>AA</td>\n",
              "      <td>5.173878</td>\n",
              "    </tr>\n",
              "  </tbody>\n",
              "</table>\n",
              "</div>"
            ],
            "text/plain": [
              "   Month variable     value\n",
              "0      1       AA  6.955843\n",
              "1      2       AA  7.530204\n",
              "2      3       AA  6.693587\n",
              "3      4       AA  4.931778\n",
              "4      5       AA  5.173878"
            ]
          },
          "execution_count": 102,
          "metadata": {},
          "output_type": "execute_result"
        }
      ],
      "source": [
        "data = pd.melt(df, id_vars=['Month'], value_vars=['AA', 'AS', 'DL', 'WN', 'MQ'])\n",
        "data.head()"
      ]
    },
    {
      "cell_type": "code",
      "execution_count": null,
      "id": "Jj76FAyqnlqH",
      "metadata": {
        "colab": {
          "base_uri": "https://localhost:8080/",
          "height": 369
        },
        "id": "Jj76FAyqnlqH",
        "outputId": "db99ff1a-8cfb-42d6-f8bc-5a9ec79ce34c"
      },
      "outputs": [
        {
          "data": {
            "image/png": "[encoded data removed]",
            "text/plain": [
              "<Figure size 413.375x360 with 1 Axes>"
            ]
          },
          "metadata": {
            "needs_background": "light"
          },
          "output_type": "display_data"
        }
      ],
      "source": [
        "sns.catplot(data=data, kind=\"bar\", x=\"Month\", y=\"value\", hue=\"variable\")\n",
        "plt.show()"
      ]
    },
    {
      "cell_type": "markdown",
      "id": "jf5cM40Jnrre",
      "metadata": {
        "id": "jf5cM40Jnrre"
      },
      "source": [
        "Ko'rib turganingizdek, bunday grafikni tushunish o'ziga yarasha qiyinchilik tug'diradi, bu yerda bizga yana `heatmap` grafigi yordamga keladi:"
      ]
    },
    {
      "cell_type": "code",
      "execution_count": null,
      "id": "qiSWcf8tnp1w",
      "metadata": {
        "colab": {
          "base_uri": "https://localhost:8080/",
          "height": 442
        },
        "id": "qiSWcf8tnp1w",
        "outputId": "d2fa3c2a-15c4-4660-d384-0962f59f2cb2"
      },
      "outputs": [
        {
          "data": {
            "image/png": "[encoded data removed]",
            "text/plain": [
              "<Figure size 1008x504 with 2 Axes>"
            ]
          },
          "metadata": {
            "needs_background": "light"
          },
          "output_type": "display_data"
        }
      ],
      "source": [
        "plt.figure(figsize=(14,7))\n",
        "sns.heatmap(data=df.set_index('Month'), cmap=\"Accent\", annot=True)\n",
        "plt.xlabel(\"Airline\")\n",
        "plt.show()"
      ]
    },
    {
      "cell_type": "markdown",
      "id": "9Xxm2un_xXfh",
      "metadata": {
        "id": "9Xxm2un_xXfh"
      },
      "source": [
        "### `pandas.melt()` haqida ko'proq ma'lumot: https://pandas.pydata.org/docs/reference/api/pandas.melt.html"
      ]
    }
  ],
  "metadata": {
    "colab": {
      "provenance": [],
      "include_colab_link": true
    },
    "language_info": {
      "codemirror_mode": {
        "name": "ipython",
        "version": 3
      },
      "file_extension": ".py",
      "mimetype": "text/x-python",
      "name": "python",
      "nbconvert_exporter": "python",
      "pygments_lexer": "ipython3",
      "version": "3.8.8"
    }
  },
  "nbformat": 4,
  "nbformat_minor": 5
}